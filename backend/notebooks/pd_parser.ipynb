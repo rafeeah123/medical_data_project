{
 "cells": [
  {
   "cell_type": "markdown",
   "id": "6f89eefe",
   "metadata": {},
   "source": [
    "## Patient Details Parser : "
   ]
  },
  {
   "cell_type": "markdown",
   "id": "1d638207",
   "metadata": {},
   "source": [
    "This notebook contains steps to parse through patient details and extract details such as patient name, phone, vaccine and medical problems. All the steps are similar to prescription_parser notebook."
   ]
  },
  {
   "cell_type": "markdown",
   "id": "6c163c66",
   "metadata": {},
   "source": [
    "### Step 1 : Convert pdf to image using pdf2image"
   ]
  },
  {
   "cell_type": "code",
   "execution_count": 38,
   "id": "75f6948e",
   "metadata": {},
   "outputs": [],
   "source": [
    "from pdf2image import convert_from_path"
   ]
  },
  {
   "cell_type": "code",
   "execution_count": 39,
   "id": "2ba1b545",
   "metadata": {},
   "outputs": [],
   "source": [
    "pages = convert_from_path(r'docs\\patient_details\\pd_1.pdf', poppler_path=r'C:\\poppler-24.02.0\\Library\\bin')"
   ]
  },
  {
   "cell_type": "markdown",
   "id": "c3c4ca73",
   "metadata": {},
   "source": [
    "poppler_path: This parameter specifies the path to the Poppler utility's binary files. Poppler is a PDF rendering library, and the pdf2image library depends on it for PDF processing. In this case, the path is set to r'C:\\poppler-24.02.0\\Library\\bin'.\n",
    "\n"
   ]
  },
  {
   "cell_type": "code",
   "execution_count": 40,
   "id": "8d598b73",
   "metadata": {},
   "outputs": [],
   "source": [
    "#displays the first page of the PDF document as an image \n",
    "pages[0].show()"
   ]
  },
  {
   "cell_type": "code",
   "execution_count": 41,
   "id": "a4778123",
   "metadata": {},
   "outputs": [],
   "source": [
    "#Extracting text from image using pytesseract\n",
    "import pytesseract"
   ]
  },
  {
   "cell_type": "code",
   "execution_count": 42,
   "id": "c6413019",
   "metadata": {},
   "outputs": [
    {
     "name": "stdout",
     "output_type": "stream",
     "text": [
      "47/12/2020\n",
      "\n",
      "Patient Medical Record\n",
      "\n",
      "Patient Information Birth Date\n",
      "Kathy Crawford May 6 1972\n",
      "(737) 988-0851 Weight\n",
      "9264 Ash Dr 95\n",
      "New York City, 10005 .\n",
      "United States Height:\n",
      "190\n",
      "In Case of Emergency\n",
      "m _ a _\n",
      "Simeone Crawford 9266 Ash Dr\n",
      "New York City, New York, 10005\n",
      "Home phone United States\n",
      "(990) 375-4621\n",
      "Work phone\n",
      "Genera! Medical History\n",
      ". : a ee\n",
      "\n",
      "Chicken Pox (Varicella):\n",
      "\n",
      "IMMUNE\n",
      "\n",
      "Have you had the Hepatitis B vaccination?\n",
      "\n",
      "No\n",
      "\n",
      "List any Medical Problems (asthma, seizures, headaches):\n",
      "\n",
      "Migraine\n",
      "\n"
     ]
    }
   ],
   "source": [
    "pytesseract.pytesseract.tesseract_cmd=r'C:\\Program Files\\Tesseract-OCR\\tesseract.exe'\n",
    "text = pytesseract.image_to_string(pages[0], lang='eng')\n",
    "print(text)"
   ]
  },
  {
   "cell_type": "markdown",
   "id": "08020746",
   "metadata": {},
   "source": [
    "#### We don't get the entire text from the image. Some of the information is unclear so we need to preprocess the image."
   ]
  },
  {
   "cell_type": "markdown",
   "id": "a0d63dd0",
   "metadata": {},
   "source": [
    "### Step 2 : Preprocess the image using Computer Vision"
   ]
  },
  {
   "cell_type": "code",
   "execution_count": 43,
   "id": "867bc8f9",
   "metadata": {},
   "outputs": [],
   "source": [
    "import numpy as np\n",
    "import cv2\n",
    "from PIL import Image\n"
   ]
  },
  {
   "cell_type": "markdown",
   "id": "051cc8f4",
   "metadata": {},
   "source": [
    "### Preprocess Image Function:\n"
   ]
  },
  {
   "cell_type": "code",
   "execution_count": 44,
   "id": "b4c57fe9",
   "metadata": {},
   "outputs": [],
   "source": [
    "def preprocess_image(img):\n",
    "    gray = cv2.cvtColor(np.array(img), cv2.COLOR_BGR2GRAY)\n",
    "    resized = cv2.resize(gray, None, fx=1.5, fy=1.5, interpolation=cv2.INTER_LINEAR)\n",
    "    processed_image = cv2.adaptiveThreshold(\n",
    "        resized,\n",
    "        255,\n",
    "        cv2.ADAPTIVE_THRESH_GAUSSIAN_C, \n",
    "        cv2.THRESH_BINARY, \n",
    "        61,\n",
    "        11\n",
    "    )\n",
    "    return processed_image"
   ]
  },
  {
   "cell_type": "code",
   "execution_count": 45,
   "id": "0966080a",
   "metadata": {},
   "outputs": [],
   "source": [
    "img = preprocess_image(pages[0])\n",
    "Image.fromarray(img).show()"
   ]
  },
  {
   "cell_type": "markdown",
   "id": "ee01f072",
   "metadata": {},
   "source": [
    "### Step 3: Extract text from image using pytesseract"
   ]
  },
  {
   "cell_type": "code",
   "execution_count": 46,
   "id": "25601afc",
   "metadata": {},
   "outputs": [
    {
     "name": "stdout",
     "output_type": "stream",
     "text": [
      "17/12/2020\n",
      "\n",
      "Patient Medical Record\n",
      "\n",
      "Patient Information Birth Date\n",
      "Kathy Crawford May 6 1972\n",
      "(737) 988-0851 Weight’\n",
      "9264 Ash Dr 95\n",
      "New York City, 10005 .\n",
      "United States Height:\n",
      "190\n",
      "In Casc of Emergency\n",
      "7 ee\n",
      "Simeone Crawford 9266 Ash Dr\n",
      "New York City, New York, 10005\n",
      "Home phone United States\n",
      "(990) 375-4621\n",
      "Work phone\n",
      "\n",
      "Genera! Medical History\n",
      "\n",
      "a\n",
      "\n",
      "a\n",
      "\n",
      "a ea A CE i a\n",
      "\n",
      "Chicken Pox (Varicella): Measies:\n",
      "\n",
      "IMMUNE IMMUNE\n",
      "\n",
      "Have you had the Hepatitis B vaccination?\n",
      "No\n",
      "\n",
      "List any Medical Problems (asthma, seizures, headaches}:\n",
      "\n",
      "Migraine\n",
      "\n",
      "be\n",
      "\n",
      "CO\n",
      "nat\n",
      "aa\n",
      "oo\n",
      "\n"
     ]
    }
   ],
   "source": [
    "pytesseract.pytesseract.tesseract_cmd=r'C:\\Program Files\\Tesseract-OCR\\tesseract.exe'\n",
    "text = pytesseract.image_to_string(img, lang='eng')\n",
    "print(text)"
   ]
  },
  {
   "cell_type": "markdown",
   "id": "2e5f8fa8",
   "metadata": {},
   "source": [
    "### Step 4: Using regex(regular expressions) to match patterns and extract information from the text"
   ]
  },
  {
   "cell_type": "markdown",
   "id": "7429fd1f",
   "metadata": {},
   "source": [
    "#### Extract name"
   ]
  },
  {
   "cell_type": "code",
   "execution_count": 47,
   "id": "ca7dec57",
   "metadata": {},
   "outputs": [
    {
     "data": {
      "text/plain": [
       "[' Birth Date\\nKathy Crawford May 6 1972\\n']"
      ]
     },
     "execution_count": 47,
     "metadata": {},
     "output_type": "execute_result"
    }
   ],
   "source": [
    "import re\n",
    "\n",
    "pattern = 'Patient Information(.*?)\\(\\d{3}\\)'\n",
    "\n",
    "matches = re.findall(pattern, text, flags=re.DOTALL)\n",
    "matches"
   ]
  },
  {
   "cell_type": "code",
   "execution_count": 48,
   "id": "ccdf60b4",
   "metadata": {},
   "outputs": [
    {
     "data": {
      "text/plain": [
       "'Birth Date\\nKathy Crawford May 6 1972'"
      ]
     },
     "execution_count": 48,
     "metadata": {},
     "output_type": "execute_result"
    }
   ],
   "source": [
    "matches[0].strip()"
   ]
  },
  {
   "cell_type": "code",
   "execution_count": 49,
   "id": "92e0a662",
   "metadata": {},
   "outputs": [
    {
     "data": {
      "text/plain": [
       "'Kathy Crawford May 6 1972'"
      ]
     },
     "execution_count": 49,
     "metadata": {},
     "output_type": "execute_result"
    }
   ],
   "source": [
    "match = matches[0].replace(\"Birth Date\",\"\").strip()\n",
    "match"
   ]
  },
  {
   "cell_type": "code",
   "execution_count": 50,
   "id": "66072368",
   "metadata": {},
   "outputs": [
    {
     "data": {
      "text/plain": [
       "'Kathy Crawford May 6 1972'"
      ]
     },
     "execution_count": 50,
     "metadata": {},
     "output_type": "execute_result"
    }
   ],
   "source": [
    "match = matches[0].replace(\"Birth Date\",\"\").strip()\n",
    "match"
   ]
  },
  {
   "cell_type": "code",
   "execution_count": 51,
   "id": "36a1c3c2",
   "metadata": {},
   "outputs": [
    {
     "data": {
      "text/plain": [
       "'May 6 1972'"
      ]
     },
     "execution_count": 51,
     "metadata": {},
     "output_type": "execute_result"
    }
   ],
   "source": [
    "pattern = '((Jan|Feb|March|April|May|June|July|Aug|Sep|Oct|Nov|Dec)[ \\d]+)'\n",
    "\n",
    "date_matches = re.findall(pattern, match)\n",
    "date = date_matches[0][0]\n",
    "date"
   ]
  },
  {
   "cell_type": "code",
   "execution_count": 52,
   "id": "f96b7141",
   "metadata": {},
   "outputs": [
    {
     "data": {
      "text/plain": [
       "'Kathy Crawford'"
      ]
     },
     "execution_count": 52,
     "metadata": {},
     "output_type": "execute_result"
    }
   ],
   "source": [
    "match.replace(date, '').strip()"
   ]
  },
  {
   "cell_type": "markdown",
   "id": "02208778",
   "metadata": {},
   "source": [
    "Can combine all these processes into a function to make it easier"
   ]
  },
  {
   "cell_type": "code",
   "execution_count": 53,
   "id": "df7b8069",
   "metadata": {},
   "outputs": [],
   "source": [
    "def remove_noise_from_name(name):\n",
    "    name = name.replace('Birth Date','').strip()\n",
    "    date_pattern = '((Jan|Feb|March|April|May|June|July|Aug|Sep|Oct|Nov|Dec)[ \\d]+)'\n",
    "    date_matches = re.findall(date_pattern, name)\n",
    "    \n",
    "    if date_matches:\n",
    "        date = date_matches[0][0]\n",
    "        name = name.replace(date, '').strip()\n",
    "    \n",
    "    return name\n",
    "    "
   ]
  },
  {
   "cell_type": "code",
   "execution_count": 54,
   "id": "79a3db1a",
   "metadata": {},
   "outputs": [
    {
     "data": {
      "text/plain": [
       "'Kathy Crawford'"
      ]
     },
     "execution_count": 54,
     "metadata": {},
     "output_type": "execute_result"
    }
   ],
   "source": [
    "name = '\\n\\n \\n\\n \\n\\nBirth Date\\nKathy Crawford May 6 1972\\n'\n",
    "\n",
    "name = remove_noise_from_name(name)\n",
    "name"
   ]
  },
  {
   "cell_type": "markdown",
   "id": "43d06a21",
   "metadata": {},
   "source": [
    "#### Extract Phone"
   ]
  },
  {
   "cell_type": "code",
   "execution_count": 55,
   "id": "e5c64c7f",
   "metadata": {},
   "outputs": [
    {
     "data": {
      "text/plain": [
       "[(' Birth Date\\nKathy Crawford May 6 1972\\n', '(737) 988-0851')]"
      ]
     },
     "execution_count": 55,
     "metadata": {},
     "output_type": "execute_result"
    }
   ],
   "source": [
    "pattern = 'Patient Information(.*?)(\\(\\d{3}\\) \\d{3}-\\d{4})'\n",
    "\n",
    "matches = re.findall(pattern, text, flags=re.DOTALL)\n",
    "matches"
   ]
  },
  {
   "cell_type": "code",
   "execution_count": 56,
   "id": "70715378",
   "metadata": {},
   "outputs": [
    {
     "data": {
      "text/plain": [
       "'(737) 988-0851'"
      ]
     },
     "execution_count": 56,
     "metadata": {},
     "output_type": "execute_result"
    }
   ],
   "source": [
    "matches[0][1]"
   ]
  },
  {
   "cell_type": "markdown",
   "id": "d1bfbb0b",
   "metadata": {},
   "source": [
    "#### Extract Vaccine"
   ]
  },
  {
   "cell_type": "code",
   "execution_count": 57,
   "id": "32e27279",
   "metadata": {},
   "outputs": [
    {
     "data": {
      "text/plain": [
       "['No']"
      ]
     },
     "execution_count": 57,
     "metadata": {},
     "output_type": "execute_result"
    }
   ],
   "source": [
    "pattern = 'Have you had the Hepatitis B vaccination\\?.*(Yes|No)'\n",
    "\n",
    "matches = re.findall(pattern, text, flags=re.DOTALL)\n",
    "matches"
   ]
  },
  {
   "cell_type": "markdown",
   "id": "cc1ecdd0",
   "metadata": {},
   "source": [
    "#### Extract Medical Problems"
   ]
  },
  {
   "cell_type": "code",
   "execution_count": 58,
   "id": "5e2c1dc5",
   "metadata": {},
   "outputs": [
    {
     "data": {
      "text/plain": [
       "'Migraine\\n\\nbe\\n\\nCO\\nnat\\naa\\noo'"
      ]
     },
     "execution_count": 58,
     "metadata": {},
     "output_type": "execute_result"
    }
   ],
   "source": [
    "pattern = 'List any Medical Problems .*?:(.*)'\n",
    "\n",
    "matches = re.findall(pattern, text, flags=re.DOTALL)\n",
    "matches[0].strip()\n"
   ]
  }
 ],
 "metadata": {
  "kernelspec": {
   "display_name": "Python 3 (ipykernel)",
   "language": "python",
   "name": "python3"
  },
  "language_info": {
   "codemirror_mode": {
    "name": "ipython",
    "version": 3
   },
   "file_extension": ".py",
   "mimetype": "text/x-python",
   "name": "python",
   "nbconvert_exporter": "python",
   "pygments_lexer": "ipython3",
   "version": "3.11.5"
  }
 },
 "nbformat": 4,
 "nbformat_minor": 5
}
